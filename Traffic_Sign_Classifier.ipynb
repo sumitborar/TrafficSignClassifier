{
 "cells": [
  {
   "cell_type": "markdown",
   "metadata": {
    "deletable": true,
    "editable": true
   },
   "source": [
    "## Load Data"
   ]
  },
  {
   "cell_type": "code",
   "execution_count": 1,
   "metadata": {
    "collapsed": true,
    "deletable": true,
    "editable": true
   },
   "outputs": [],
   "source": [
    "# Load pickled data\n",
    "import pickle\n",
    "import numpy as np \n",
    "import tensorflow as tf\n",
    "import cv2\n",
    "\n",
    "# TODO: Fill this in based on where you saved the training and testing data\n",
    "training_file = \"data/train.p\"\n",
    "validation_file=\"data/valid.p\"\n",
    "testing_file = \"data/test.p\"\n",
    "\n",
    "with open(training_file, mode='rb') as f:\n",
    "    train = pickle.load(f)\n",
    "with open(validation_file, mode='rb') as f:\n",
    "    valid = pickle.load(f)\n",
    "with open(testing_file, mode='rb') as f:\n",
    "    test = pickle.load(f)\n",
    "    \n",
    "X_train, y_train = train['features'], train['labels']\n",
    "X_valid, y_valid = valid['features'], valid['labels']\n",
    "X_test, y_test = test['features'], test['labels']"
   ]
  },
  {
   "cell_type": "markdown",
   "metadata": {
    "deletable": true,
    "editable": true
   },
   "source": [
    "---\n",
    "\n",
    "## Step 1: Dataset Summary & Exploration\n",
    "\n",
    "The pickled data is a dictionary with 4 key/value pairs:\n",
    "\n",
    "- `'features'` is a 4D array containing raw pixel data of the traffic sign images, (num examples, width, height, channels).\n",
    "- `'labels'` is a 1D array containing the label/class id of the traffic sign. The file `signnames.csv` contains id -> name mappings for each id.\n",
    "- `'sizes'` is a list containing tuples, (width, height) representing the original width and height the image.\n",
    "- `'coords'` is a list containing tuples, (x1, y1, x2, y2) representing coordinates of a bounding box around the sign in the image. **THESE COORDINATES ASSUME THE ORIGINAL IMAGE. THE PICKLED DATA CONTAINS RESIZED VERSIONS (32 by 32) OF THESE IMAGES**\n",
    "\n",
    "Complete the basic data summary below. Use python, numpy and/or pandas methods to calculate the data summary rather than hard coding the results. For example, the [pandas shape method](http://pandas.pydata.org/pandas-docs/stable/generated/pandas.DataFrame.shape.html) might be useful for calculating some of the summary results. "
   ]
  },
  {
   "cell_type": "markdown",
   "metadata": {
    "deletable": true,
    "editable": true
   },
   "source": [
    "### Provide a Basic Summary of the Data Set Using Python, Numpy and/or Pandas"
   ]
  },
  {
   "cell_type": "code",
   "execution_count": 2,
   "metadata": {
    "collapsed": false,
    "deletable": true,
    "editable": true
   },
   "outputs": [
    {
     "name": "stdout",
     "output_type": "stream",
     "text": [
      "Number of training examples = 34799\n",
      "Number of validation examples = 12630\n",
      "Number of testing examples = 12630\n",
      "Image data shape = (32, 32, 3)\n",
      "Number of classes = 43\n",
      "Number of classes in training data - 43\n",
      "Number of classes in validation data - 43\n",
      "Number of classes in test data - 43\n"
     ]
    }
   ],
   "source": [
    "### Replace each question mark with the appropriate value. \n",
    "### Use python, pandas or numpy methods rather than hard coding the results\n",
    "\n",
    "# Number of training examples\n",
    "n_train = X_train.shape[0]\n",
    "\n",
    "# Number of testing examples.\n",
    "n_test = X_test.shape[0]\n",
    "\n",
    "# What's the shape of an traffic sign image?\n",
    "image_shape = X_train[0].shape\n",
    "\n",
    "# How many unique classes/labels there are in the dataset.\n",
    "n_classes = np.unique(y_train).size\n",
    "\n",
    "print(\"Number of training examples =\", n_train)\n",
    "print(\"Number of validation examples =\", n_test)\n",
    "print(\"Number of testing examples =\", n_test)\n",
    "print(\"Image data shape =\", image_shape)\n",
    "print(\"Number of classes =\", n_classes)\n",
    "print (\"Number of classes in training data - {}\".format(np.unique( (y_train) ).size))\n",
    "print (\"Number of classes in validation data - {}\".format(np.unique( (y_valid) ).size))\n",
    "print (\"Number of classes in test data - {}\".format(np.unique( (y_test) ).size))"
   ]
  },
  {
   "cell_type": "markdown",
   "metadata": {
    "deletable": true,
    "editable": true
   },
   "source": [
    "### Include an exploratory visualization of the dataset"
   ]
  },
  {
   "cell_type": "code",
   "execution_count": 3,
   "metadata": {
    "collapsed": false,
    "deletable": true,
    "editable": true
   },
   "outputs": [
    {
     "data": {
      "image/png": "[encoded data removed]",
      "text/plain": [
       "<matplotlib.figure.Figure at 0x7f8222c2f438>"
      ]
     },
     "metadata": {},
     "output_type": "display_data"
    }
   ],
   "source": [
    "### Data exploration visualization code goes here.\n",
    "### Feel free to use as many code cells as needed.\n",
    "import matplotlib.pyplot as plt\n",
    "import matplotlib.image as mpimg\n",
    "# Visualizations will be shown in the notebook.\n",
    "%matplotlib inline\n",
    "#t = np.array( X_train[0], np.float32).reshape( -1, (96,96))\n",
    "#t.shape\n",
    "uniq, indices,counts = np.unique(y_train, return_index=True, return_counts=True)\n",
    "\n",
    "class_samples= {} \n",
    "for i,k in zip(indices,counts):\n",
    "    class_samples[y_train[i]] = k\n",
    "\n",
    "plt.figure(figsize=(12, 4))\n",
    "plt.title(\"Distribution of the train dataset\")\n",
    "plt.xlabel(\"Class number\")\n",
    "plt.ylabel(\"Number of images\")\n",
    "plt.bar(list(class_samples.keys()), list(class_samples.values()), 0.5, color='g')\n",
    "plt.savefig(\"sample_distribution-1.png\")"
   ]
  },
  {
   "cell_type": "markdown",
   "metadata": {
    "deletable": true,
    "editable": true
   },
   "source": [
    "----\n",
    "\n",
    "## Step 2: Design and Test a Model Architecture\n",
    "\n",
    "Design and implement a deep learning model that learns to recognize traffic signs. Train and test your model on the [German Traffic Sign Dataset](http://benchmark.ini.rub.de/?section=gtsrb&subsection=dataset).\n",
    "\n",
    "The LeNet-5 implementation shown in the [classroom](https://classroom.udacity.com/nanodegrees/nd013/parts/fbf77062-5703-404e-b60c-95b78b2f3f9e/modules/6df7ae49-c61c-4bb2-a23e-6527e69209ec/lessons/601ae704-1035-4287-8b11-e2c2716217ad/concepts/d4aca031-508f-4e0b-b493-e7b706120f81) at the end of the CNN lesson is a solid starting point. You'll have to change the number of classes and possibly the preprocessing, but aside from that it's plug and play! \n",
    "\n",
    "With the LeNet-5 solution from the lecture, you should expect a validation set accuracy of about 0.89. To meet specifications, the validation set accuracy will need to be at least 0.93. It is possible to get an even higher accuracy, but 0.93 is the minimum for a successful project submission. \n",
    "\n",
    "There are various aspects to consider when thinking about this problem:\n",
    "\n",
    "- Neural network architecture (is the network over or underfitting?)\n",
    "- Play around preprocessing techniques (normalization, rgb to grayscale, etc)\n",
    "- Number of examples per label (some have more than others).\n",
    "- Generate fake data.\n",
    "\n",
    "Here is an example of a [published baseline model on this problem](http://yann.lecun.com/exdb/publis/pdf/sermanet-ijcnn-11.pdf). It's not required to be familiar with the approach used in the paper but, it's good practice to try to read papers like these."
   ]
  },
  {
   "cell_type": "markdown",
   "metadata": {
    "deletable": true,
    "editable": true
   },
   "source": [
    "### Pre-process the Data Set (normalization, grayscale, etc.)"
   ]
  },
  {
   "cell_type": "code",
   "execution_count": 4,
   "metadata": {
    "collapsed": true,
    "deletable": true,
    "editable": true
   },
   "outputs": [],
   "source": [
    "def rotate_image(image):\n",
    "    #flip_image = tf.image.flip_left_right(image)\n",
    "    ## get a random degree\n",
    "    degree = np.random.randint(-20, 20)\n",
    "    img = rotate(image, degree ,reshape=False )\n",
    "    return image \n",
    "\n",
    "def distort_orientation(image, max_rotation,max_translation, max_shear):\n",
    "   \n",
    "    ## rotation\n",
    "    angle = np.random.uniform(max_rotation)-max_rotation/2\n",
    "    rows,cols,ch = image.shape    \n",
    "    rotation = cv2.getRotationMatrix2D((cols/2,rows/2),angle,1)\n",
    "\n",
    "    # Translation\n",
    "    tr_x = max_translation *np.random.uniform()- max_translation/2\n",
    "    tr_y = max_translation *np.random.uniform()-max_translation/2\n",
    "    translation = np.float32([[1,0,tr_x],[0,1,tr_y]])\n",
    "\n",
    "    # Shear\n",
    "    pts1 = np.float32([[5,5],[20,5],[5,20]])\n",
    "    pt1 = 5+max_shear*np.random.uniform()-max_shear/2\n",
    "    pt2 = 20+max_shear*np.random.uniform()-max_shear/2\n",
    "    pts2 = np.float32([[pt1,5],[pt2,pt1],[5,pt2]])\n",
    "    shear = cv2.getAffineTransform(pts1,pts2)\n",
    "        \n",
    "    img = cv2.warpAffine(image,rotation,(cols,rows))\n",
    "    img = cv2.warpAffine(img,translation,(cols,rows))\n",
    "    img = cv2.warpAffine(img,shear,(cols,rows))\n",
    "    \n",
    "    return img\n",
    "    \n",
    "def distort_color(image):\n",
    "    rand_bright =   tf.image.random_brightness(image,  0.6, seed=43 )\n",
    "    rand_contrast = tf.image.random_contrast(image, 0.1, 0.6,seed=48)\n",
    "    rand_saturation = tf.image.random_saturation(image,0.1, 0.6,seed=45 )\n",
    "    rand_hue = tf.image.random_hue(image, 0.5, seed=49)\n",
    "    return (rand_bright, rand_contrast,rand_saturation, rand_hue)  "
   ]
  },
  {
   "cell_type": "code",
   "execution_count": 5,
   "metadata": {
    "collapsed": false,
    "deletable": true,
    "editable": true
   },
   "outputs": [
    {
     "name": "stdout",
     "output_type": "stream",
     "text": [
      "(34799, 32, 32, 3) (34799,)\n",
      "(347990, 32, 32, 3) (347990,)\n",
      "Augmented training data size - \n",
      "(295791, 32, 32, 3) (295791,)\n",
      "Augmented validation data size - \n",
      "(91408, 32, 32, 3) (91408,)\n"
     ]
    }
   ],
   "source": [
    "### Preprocess the data here. Preprocessing steps could include normalization, converting to grayscale, etc.\n",
    "### Feel free to use as many code cells as needed.\n",
    "\n",
    "## shuffle training data\n",
    "import tensorflow as tf\n",
    "from sklearn.utils import shuffle\n",
    "from sklearn.model_selection import train_test_split\n",
    "from scipy.ndimage import rotate\n",
    "import random\n",
    "\n",
    "print(X_train.shape, y_train.shape)\n",
    "\n",
    "aug_train = [] \n",
    "aug_label = []\n",
    "\n",
    "aug_X = []\n",
    "aug_y = []\n",
    "max_samples_per_class = 4500\n",
    "#for train, label in zip(X_train, y_train):\n",
    "#    factor = int(max_samples_per_class/class_samples[label]) -1\n",
    "#    for i in range(factor):\n",
    "#        aug_train.append(rotate_image(train))\n",
    "#        aug_label.append(label)\n",
    "  \n",
    "\n",
    "#ax_train =  np.asarray(aug_train)\n",
    "#ay_train = np.asarray(aug_label)\n",
    "#print( X_train.shape, y_train.shape, ax_train.shape, ay_train.shape)\n",
    "\n",
    "for train,label in zip(X_train, y_train):\n",
    "    for i in range(10):\n",
    "        aug_X.append(distort_orientation(train, 20, 5, 10))\n",
    "        aug_y.append(label)\n",
    "        \n",
    "aug_X = np.asarray(aug_X)\n",
    "aug_y = np.asarray(aug_y)\n",
    "print (aug_X.shape, aug_y.shape)\n",
    "\n",
    "ax_train,ax_valid, ay_train, ay_valid = train_test_split( aug_X, aug_y, test_size=0.25, random_state=42)\n",
    "\n",
    "## Add augmented data \n",
    "X_train_new = np.concatenate(( X_train, ax_train), axis=0 )\n",
    "y_train_new = np.concatenate((y_train, ay_train),axis=0)\n",
    "X_valid = np.concatenate((X_valid, ax_valid), axis=0)\n",
    "y_valid = np.concatenate((y_valid, ay_valid), axis=0)\n",
    "print (\"Augmented training data size - \")\n",
    "print( X_train_new.shape, y_train_new.shape )\n",
    "print (\"Augmented validation data size - \")\n",
    "print( X_valid.shape, y_valid.shape )\n",
    "\n",
    "X_train, y_train = shuffle(X_train_new, y_train_new)\n",
    "X_valid, y_valid = shuffle(X_valid, y_valid)"
   ]
  },
  {
   "cell_type": "code",
   "execution_count": 6,
   "metadata": {
    "collapsed": false,
    "deletable": true,
    "editable": true
   },
   "outputs": [
    {
     "name": "stdout",
     "output_type": "stream",
     "text": [
      "New training data distribution - \n"
     ]
    },
    {
     "data": {
      "image/png": "[encoded data removed]",
      "text/plain": [
       "<matplotlib.figure.Figure at 0x7f821eda9cf8>"
      ]
     },
     "metadata": {},
     "output_type": "display_data"
    }
   ],
   "source": [
    "## pick evenly from each class\n",
    "X_picked = []\n",
    "y_picked = []\n",
    "cur_count = {}\n",
    "for c in class_samples.keys():\n",
    "    cur_count[c]=0 \n",
    "\n",
    "for train,label in zip(X_train, y_train): \n",
    "    if ( cur_count[label] < 6000 ):\n",
    "        X_picked.append(train)\n",
    "        y_picked.append(label)\n",
    "        cur_count[label] +=1\n",
    "X_train =  np.asarray(X_picked)\n",
    "y_train = np.asarray(y_picked)\n",
    "\n",
    "#print( X_train.shape, y_train.shape)\n",
    "\n",
    "uniq, indices,counts = np.unique(y_train, return_index=True, return_counts=True)\n",
    "\n",
    "class_samples= {} \n",
    "for i,k in zip(indices,counts):\n",
    "    class_samples[y_train[i]] = k\n",
    "\n",
    "print(\"New training data distribution - \")\n",
    "#print(class_samples)\n",
    "plt.figure(figsize=(12, 4))\n",
    "plt.title(\"Distribution of the train dataset\")\n",
    "plt.xlabel(\"Class number\")\n",
    "plt.ylabel(\"Number of images\")\n",
    "plt.bar(list(class_samples.keys()), list(class_samples.values()), 0.5, color='r')\n",
    "plt.savefig(\"sample_distribution-2.png\")\n"
   ]
  },
  {
   "cell_type": "code",
   "execution_count": 7,
   "metadata": {
    "collapsed": false,
    "deletable": true,
    "editable": true
   },
   "outputs": [],
   "source": [
    "## color normalization\n",
    "\n",
    "import cv2\n",
    "def convert_to_yuv(image):\n",
    "    return cv2.cvtColor(image, cv2.COLOR_RGB2YUV)\n",
    "\n",
    "def color_normalization(images):\n",
    "    res_images = []\n",
    "    for image in images:\n",
    "        img_yuv = convert_to_yuv(image)\n",
    "        # apply histogram normalization\n",
    "        clahe = cv2.createCLAHE(clipLimit=2.0, tileGridSize=(4,4))\n",
    "        y_ = clahe.apply(img_yuv[:,:,0])\n",
    "        img_yuv[:,:,0]= y_\n",
    "        res_images.append(img_yuv)\n",
    "    return np.asarray(res_images)\n",
    "\n",
    "def  feature_normalization(images):\n",
    "    return images/255. * 0.8 + 0.1\n",
    "  \n"
   ]
  },
  {
   "cell_type": "code",
   "execution_count": 8,
   "metadata": {
    "collapsed": false,
    "deletable": true,
    "editable": true
   },
   "outputs": [
    {
     "name": "stdout",
     "output_type": "stream",
     "text": [
      "Normalizing colors....\n",
      "Normalizing features...\n"
     ]
    }
   ],
   "source": [
    "print(\"Normalizing colors....\")\n",
    "X_train = color_normalization(X_train)\n",
    "#print( X_train.shape, y_train.shape)\n",
    "X_valid = color_normalization(X_valid)\n",
    "#print( X_valid.shape, y_valid.shape)\n",
    "X_test = color_normalization(X_test)\n",
    "#print( X_test.shape, y_test.shape)\n",
    "\n",
    "## Feature normalization\n",
    "# Normalize features\n",
    "print('Normalizing features...')\n",
    "X_train = feature_normalization(X_train)\n",
    "X_valid = feature_normalization(X_valid)\n",
    "X_test = feature_normalization(X_test)"
   ]
  },
  {
   "cell_type": "markdown",
   "metadata": {
    "deletable": true,
    "editable": true
   },
   "source": [
    "### Model Architecture"
   ]
  },
  {
   "cell_type": "code",
   "execution_count": 9,
   "metadata": {
    "collapsed": true,
    "deletable": true,
    "editable": true
   },
   "outputs": [],
   "source": [
    "import tensorflow as tf\n",
    "\n",
    "EPOCHS = 80\n",
    "BATCH_SIZE = 128\n",
    "\n"
   ]
  },
  {
   "cell_type": "code",
   "execution_count": 10,
   "metadata": {
    "collapsed": true,
    "deletable": true,
    "editable": true
   },
   "outputs": [],
   "source": [
    "## New architecture \n",
    "import tensorflow.contrib.slim as slim\n",
    "from tensorflow.contrib.layers.python.layers import initializers\n",
    "\n",
    "## Inception Architecture for Traffic Sign Classifier\n",
    "def InceptTraffic(x):\n",
    "    \n",
    "    mu = 0\n",
    "    sigma = 0.1\n",
    "    ## Layer 1\n",
    "    ## 1x1 convolution\n",
    "    branch_1_0 = slim.conv2d(x, 8, [1, 1] )\n",
    "    ## 1x1 convolution + 5x5 conv\n",
    "    branch_1_1 = slim.conv2d(x, 8, [1,1])\n",
    "    branch_1_1 = slim.conv2d(branch_1_1, 16, [5,5])\n",
    "    ## 1x1 convolution + 3x3 conv\n",
    "    branch_1_2 = slim.conv2d(x, 16, [1,1])\n",
    "    branch_1_2 = slim.conv2d(branch_1_2, 32, [3,3])\n",
    "    ## Maxpool \n",
    "    #branch_1_3 = slim.max_pool2d(x, [3,3] )\n",
    "    branch_1_3 = slim.conv2d(x, 32, [1, 1])\n",
    "    \n",
    "    ## combine them\n",
    "    conv2d_1 = tf.concat(axis=3, values=[branch_1_0, branch_1_1, branch_1_2, branch_1_3])\n",
    "    conv2d_1 = slim.max_pool2d(conv2d_1, [3,3], stride=2)\n",
    "    #print(conv2d_1.shape)\n",
    "    ## dropout\n",
    "    res = slim.dropout(conv2d_1,keep_prob=0.7, scope='Dropout_1')\n",
    "\n",
    "    \n",
    "    ## Layer 2 - input 15X15X88\n",
    "    branch_2_0 = slim.conv2d(res, 88, [5,5])\n",
    "    branch_2_1 = slim.max_pool2d(branch_2_0, [3,3],stride=1)\n",
    "    ## dropout\n",
    "    #res = slim.dropout(branch_2_1,keep_prob=0.7, scope='Dropout_2')\n",
    "    #print(res.shape)\n",
    "    \n",
    "     ## Layer 3 - input 13X13x120\n",
    "    branch_3_0 = slim.conv2d(branch_2_1, 100, [5,5])\n",
    "    branch_3_1 = slim.max_pool2d(branch_3_0, [4,4], stride=2)\n",
    "    ## dropout\n",
    "    #res = slim.dropout(branch_3_1,keep_prob=0.7, scope='Dropout_3')\n",
    "    \n",
    "    #print(res.shape)\n",
    "    ## flatten \n",
    "    #  Input = 5x5x100. Output = 2500.\n",
    "    flat = tf.contrib.layers.flatten(branch_3_1)\n",
    "    ## fully connected layer\n",
    "    #print(flat.shape)\n",
    "    \n",
    "     # TODO: Layer 3: Fully Connected. Input = 1200. Output = 400.\n",
    "    weight_f1 = tf.Variable( tf.random_normal( [2500,1000], mean = mu, stddev=sigma))\n",
    "    bias_f1 = tf.Variable(tf.zeros(1000))\n",
    "    fc1 = tf.add(tf.matmul(flat,weight_f1),bias_f1)\n",
    "    # TODO: Activation.\n",
    "    fc1 = tf.nn.relu(fc1)\n",
    "    #print(fc1.shape)\n",
    "    \n",
    "    # TODO: Layer 4: Fully Connected. Input = 400. Output = 130.\n",
    "    weight_f2 = tf.Variable( tf.random_normal( [1000,500], mean = mu, stddev=sigma))\n",
    "    bias_f2 = tf.Variable(tf.zeros(300))\n",
    "    fc2 = tf.add(tf.matmul(fc1,weight_f2),bias_f2)\n",
    "    # TODO: Activation.\n",
    "    fc2 = tf.nn.relu(fc2)\n",
    "    #print(fc2.shape)\n",
    "    \n",
    "    # TODO: Layer 5: Fully Connected. Input = 130. Output = 43.\n",
    "    weight_f3 = tf.Variable( tf.random_normal( [500,43], mean = mu, stddev=sigma))\n",
    "    bias_f3 = tf.Variable(tf.zeros(43))\n",
    "    logits = tf.add(tf.matmul(fc2,weight_f3),bias_f3)\n",
    "    \n",
    "    return logits\n",
    "\n",
    "    "
   ]
  },
  {
   "cell_type": "code",
   "execution_count": 11,
   "metadata": {
    "collapsed": false,
    "deletable": true,
    "editable": true
   },
   "outputs": [],
   "source": [
    "### Define your architecture here.\n",
    "### Feel free to use as many code cells as needed.\n",
    "def LeNet(x,phase):    \n",
    "    # Arguments used for tf.truncated_normal, randomly defines variables for the weights and biases for each layer\n",
    "    mu = 0\n",
    "    sigma = 0.1\n",
    "\n",
    "\n",
    "    #  Layer 1: Convolutional. Input = 32x32x3. Output = 28x28x12.\n",
    "    weights_layer_1 = tf.Variable(tf.random_normal([5,5,3,12], mean = mu, stddev=sigma))\n",
    "    bias_layer_1 = tf.Variable(tf.zeros([12]))\n",
    "    # Activation.\n",
    "    conv1 = tf.nn.conv2d(x, weights_layer_1, strides=[1, 1, 1, 1], padding='VALID') + bias_layer_1\n",
    "    conv1 = tf.nn.relu(conv1,name=\"relu1\")\n",
    "    #print( conv1.shape)\n",
    "    #  Pooling. Input = 28x28x12. Output = 26x26x12.\n",
    "    pool1 = tf.nn.max_pool(conv1,ksize=[1,3,3,1], strides=[1,1,1,1], padding='VALID' )\n",
    "    #pool1 = tf.layers.dropout( pool1, rate=0.1, training=True)\n",
    "    #print( \"pool1 - \")\n",
    "    #print( pool1.shape )\n",
    "    \n",
    "    weights_layer_1b = tf.Variable(tf.random_normal([1,1,12,30], mean = mu, stddev=sigma))\n",
    "    bias_layer_1b  = tf.Variable(tf.zeros([30]))\n",
    "    conv1b = tf.nn.conv2d(pool1, weights_layer_1b, strides=[1, 1, 1, 1], padding='VALID') + bias_layer_1b\n",
    "    conv1b = tf.nn.relu(conv1b, name=\"relu1b\")\n",
    "    \n",
    "    \n",
    "    # TODO: Layer 2: Convolutional. Input - 26x26x30 Output = 22x22x48.\n",
    "    weights_layer_2 = tf.Variable(tf.random_normal([5,5,30,48], mean = mu, stddev=sigma))\n",
    "    bias_layer_2 = tf.Variable(tf.zeros([48]))\n",
    "    conv2 = tf.nn.conv2d(conv1b, weights_layer_2, strides=[1, 1, 1, 1], padding='VALID') + bias_layer_2\n",
    "    # Activation.\n",
    "    conv2 = tf.nn.relu(conv2,name=\"relu2\")\n",
    "    # Pooling. Input = 22x22x48. Output = 11x11x48.\n",
    "    pool2 = tf.nn.max_pool(conv2,ksize=[1,2,2,1], strides=[1,2,2,1], padding='VALID' )\n",
    "    #pool2 = tf.layers.dropout( pool2, rate=0.1, training=True)\n",
    "    #print( \"pool2 - \")\n",
    "    #print( pool2.shape )\n",
    "    \n",
    "    \n",
    "    weights_layer_2b = tf.Variable(tf.random_normal([1,1,48,76], mean = mu, stddev=sigma))\n",
    "    bias_layer_2b  = tf.Variable(tf.zeros([76]))\n",
    "    conv2b = tf.nn.conv2d(pool2, weights_layer_2b, strides=[1, 1, 1, 1], padding='VALID') + bias_layer_2b\n",
    "    conv2b = tf.nn.relu(conv2b,name=\"relu2b\")\n",
    "    \n",
    "    \n",
    "    #  Convolutional. Input - 11x11x76 Output = 7x7x120.\n",
    "    weights_layer_3 = tf.Variable(tf.random_normal([5,5,76,120], mean = mu, stddev=sigma))\n",
    "    bias_layer_3 = tf.Variable(tf.zeros([120]))\n",
    "    conv3 = tf.nn.conv2d(conv2b, weights_layer_3, strides=[1, 1, 1, 1], padding='VALID') + bias_layer_3\n",
    "    # Activation.\n",
    "    conv3 = tf.nn.relu(conv3,name=\"relu3\")\n",
    "    # Pooling. Input = 7x7x120. Output = 5x5x120.\n",
    "    pool3 = tf.nn.max_pool(conv3,ksize=[1,3,3,1], strides=[1,1,1,1], padding='VALID' )\n",
    "    #pool3 = tf.layers.dropout( pool3, rate=0.1, training=True)\n",
    "    #print( \"pool3 - \")\n",
    "    #print( pool3.shape )\n",
    "    \n",
    "\n",
    "    \n",
    "    \n",
    "    #  Flatten. Input = 5x5x120. Output = 3000.\n",
    "    flat = tf.contrib.layers.flatten(pool3)\n",
    "    #print(flat.shape)\n",
    "    \n",
    "    \n",
    "    # Layer 3: Fully Connected. Input = 3000. Output = 1500.\n",
    "    weight_f1 = tf.Variable( tf.random_normal( [3000,1500], mean = mu, stddev=sigma))\n",
    "    bias_f1 = tf.Variable(tf.zeros(1500))\n",
    "    fc1 = tf.add(tf.matmul(flat,weight_f1),bias_f1)\n",
    "    \n",
    "    ## batch normalization\n",
    "    ## different behaviors during training and testing\n",
    "    fc1 = tf.contrib.layers.batch_norm(fc1,center=True, scale=True, \n",
    "                                          is_training=phase)\n",
    "    # Activation.\n",
    "    fc1 = tf.nn.relu(fc1)\n",
    "    fc1 = tf.layers.dropout(fc1, rate=0.3, training=phase)\n",
    "    #print(fc1.shape)\n",
    "    \n",
    "    # Layer 4: Fully Connected. Input = 1500. Output = 700.\n",
    "    weight_f2 = tf.Variable( tf.random_normal( [1500,700], mean = mu, stddev=sigma))\n",
    "    bias_f2 = tf.Variable(tf.zeros(700))\n",
    "    fc2 = tf.add(tf.matmul(fc1,weight_f2),bias_f2)\n",
    "    \n",
    "    ## batch normalization\n",
    "    ## different behaviors during training and testing\n",
    "    fc2 = tf.contrib.layers.batch_norm(fc2,center=True, scale=True, \n",
    "                                          is_training=phase)\n",
    "    #  Activation.\n",
    "    fc2 = tf.nn.relu(fc2)\n",
    "    fc2 = tf.layers.dropout(fc2, rate=0.3, training=phase)\n",
    "    #print(fc2.shape)\n",
    "    \n",
    "    \n",
    "    # Layer 5: Fully Connected. Input = 700. Output = 300.\n",
    "    weight_f3 = tf.Variable( tf.random_normal( [700,300], mean = mu, stddev=sigma))\n",
    "    bias_f3 = tf.Variable(tf.zeros(300))\n",
    "    fc3 = tf.add(tf.matmul(fc2,weight_f3),bias_f3)\n",
    "    ## batch normalization\n",
    "    ## different behaviors during training and testing\n",
    "    fc3 = tf.contrib.layers.batch_norm(fc3,center=True, scale=True, is_training=phase)\n",
    "    fc3 = tf.nn.relu(fc3)\n",
    "    fc3 = tf.layers.dropout(fc3, rate=0.3, training=phase)\n",
    "    \n",
    "    weight_f4 = tf.Variable( tf.random_normal( [300,43], mean = mu, stddev=sigma))\n",
    "    bias_f4 = tf.Variable(tf.zeros(43))\n",
    "    logits = tf.add(tf.matmul(fc3,weight_f4),bias_f4)\n",
    " \n",
    "    #print(logits.shape)\n",
    "    \n",
    "    return logits\n",
    "\n",
    "\n",
    "\n",
    "\n",
    "\n"
   ]
  },
  {
   "cell_type": "code",
   "execution_count": 12,
   "metadata": {
    "collapsed": true,
    "deletable": true,
    "editable": true
   },
   "outputs": [],
   "source": [
    "x = tf.placeholder(tf.float32, (None, 32, 32, 3))\n",
    "y = tf.placeholder(tf.int32, (None))\n",
    "phase = tf.placeholder(bool,name=\"phase\")\n",
    "one_hot_y = tf.one_hot(y, 43)"
   ]
  },
  {
   "cell_type": "markdown",
   "metadata": {
    "deletable": true,
    "editable": true
   },
   "source": [
    "### Training Pipeline"
   ]
  },
  {
   "cell_type": "code",
   "execution_count": 13,
   "metadata": {
    "collapsed": false,
    "deletable": true,
    "editable": true
   },
   "outputs": [],
   "source": [
    "rate = 0.001\n",
    "\n",
    "#logits = InceptTraffic(x)\n",
    "logits = LeNet(x,phase)\n",
    "cross_entropy = tf.nn.softmax_cross_entropy_with_logits(logits=logits, labels=one_hot_y)\n",
    "loss_operation = tf.reduce_mean(cross_entropy)\n",
    "probabilities=tf.nn.softmax(logits)\n",
    "\n",
    "update_ops = tf.get_collection(tf.GraphKeys.UPDATE_OPS)\n",
    "with tf.control_dependencies(update_ops):\n",
    "        # Ensures that we execute the update_ops before performing the train_step\n",
    "    optimizer = tf.train.AdamOptimizer(learning_rate = rate, epsilon=0.1)\n",
    "    training_operation = optimizer.minimize(loss_operation)"
   ]
  },
  {
   "cell_type": "markdown",
   "metadata": {
    "deletable": true,
    "editable": true
   },
   "source": [
    "### Model Evaluation"
   ]
  },
  {
   "cell_type": "code",
   "execution_count": null,
   "metadata": {
    "collapsed": false,
    "deletable": true,
    "editable": true
   },
   "outputs": [],
   "source": [
    "correct_prediction = tf.equal(tf.argmax(logits, 1), tf.argmax(one_hot_y, 1))\n",
    "accuracy_operation = tf.reduce_mean(tf.cast(correct_prediction, tf.float32))\n",
    "saver = tf.train.Saver()\n",
    "\n",
    "def evaluate(X_data, y_data):\n",
    "    num_examples = len(X_data)\n",
    "    total_accuracy = 0\n",
    "    sess = tf.get_default_session()\n",
    "    for offset in range(0, num_examples, BATCH_SIZE):\n",
    "        batch_x, batch_y = X_data[offset:offset+BATCH_SIZE], y_data[offset:offset+BATCH_SIZE]\n",
    "        accuracy = sess.run(accuracy_operation, feed_dict={x: batch_x, y: batch_y, phase:0})\n",
    "        total_accuracy += (accuracy * len(batch_x))\n",
    "    return total_accuracy / num_examples"
   ]
  },
  {
   "cell_type": "markdown",
   "metadata": {
    "deletable": true,
    "editable": true
   },
   "source": [
    "### Train, Validate and Test the Model"
   ]
  },
  {
   "cell_type": "code",
   "execution_count": null,
   "metadata": {
    "collapsed": false,
    "deletable": true,
    "editable": true,
    "scrolled": false
   },
   "outputs": [
    {
     "name": "stdout",
     "output_type": "stream",
     "text": [
      "Training...\n",
      "\n",
      "EPOCH 1 ...\n",
      "Finished EPOCH - 1 in  1  minutes\n",
      "Training Accuracy = 0.112\n",
      "Validation Accuracy = 0.107\n",
      "\n",
      "Model saved\n",
      "EPOCH 2 ...\n",
      "Finished EPOCH - 2 in  3  minutes\n",
      "Training Accuracy = 0.329\n",
      "Validation Accuracy = 0.337\n",
      "\n",
      "EPOCH 3 ...\n",
      "Finished EPOCH - 3 in  4  minutes\n",
      "Training Accuracy = 0.264\n",
      "Validation Accuracy = 0.265\n",
      "\n",
      "EPOCH 4 ...\n",
      "Finished EPOCH - 4 in  5  minutes\n",
      "Training Accuracy = 0.527\n",
      "Validation Accuracy = 0.517\n",
      "\n",
      "EPOCH 5 ...\n",
      "Finished EPOCH - 5 in  7  minutes\n",
      "Training Accuracy = 0.574\n",
      "Validation Accuracy = 0.575\n",
      "\n",
      "EPOCH 6 ...\n",
      "Finished EPOCH - 6 in  8  minutes\n",
      "Training Accuracy = 0.526\n",
      "Validation Accuracy = 0.511\n",
      "\n",
      "EPOCH 7 ...\n",
      "Finished EPOCH - 7 in  9  minutes\n",
      "Training Accuracy = 0.512\n",
      "Validation Accuracy = 0.513\n",
      "\n",
      "EPOCH 8 ...\n",
      "Finished EPOCH - 8 in  10  minutes\n",
      "Training Accuracy = 0.702\n",
      "Validation Accuracy = 0.702\n",
      "\n",
      "EPOCH 9 ...\n",
      "Finished EPOCH - 9 in  12  minutes\n",
      "Training Accuracy = 0.771\n",
      "Validation Accuracy = 0.763\n",
      "\n",
      "EPOCH 10 ...\n",
      "Finished EPOCH - 10 in  13  minutes\n",
      "Training Accuracy = 0.799\n",
      "Validation Accuracy = 0.768\n",
      "\n",
      "EPOCH 11 ...\n",
      "Finished EPOCH - 11 in  14  minutes\n",
      "Training Accuracy = 0.857\n",
      "Validation Accuracy = 0.848\n",
      "\n",
      "Model saved\n",
      "EPOCH 12 ...\n",
      "Finished EPOCH - 12 in  16  minutes\n",
      "Training Accuracy = 0.658\n",
      "Validation Accuracy = 0.666\n",
      "\n",
      "EPOCH 13 ...\n",
      "Finished EPOCH - 13 in  17  minutes\n",
      "Training Accuracy = 0.881\n",
      "Validation Accuracy = 0.871\n",
      "\n",
      "EPOCH 14 ...\n",
      "Finished EPOCH - 14 in  18  minutes\n",
      "Training Accuracy = 0.860\n",
      "Validation Accuracy = 0.849\n",
      "\n",
      "EPOCH 15 ...\n",
      "Finished EPOCH - 15 in  20  minutes\n",
      "Training Accuracy = 0.900\n",
      "Validation Accuracy = 0.892\n",
      "\n",
      "EPOCH 16 ...\n",
      "Finished EPOCH - 16 in  21  minutes\n",
      "Training Accuracy = 0.892\n",
      "Validation Accuracy = 0.879\n",
      "\n",
      "EPOCH 17 ...\n",
      "Finished EPOCH - 17 in  22  minutes\n",
      "Training Accuracy = 0.875\n",
      "Validation Accuracy = 0.863\n",
      "\n",
      "EPOCH 18 ...\n",
      "Finished EPOCH - 18 in  24  minutes\n",
      "Training Accuracy = 0.925\n",
      "Validation Accuracy = 0.917\n",
      "\n",
      "EPOCH 19 ...\n",
      "Finished EPOCH - 19 in  25  minutes\n",
      "Training Accuracy = 0.864\n",
      "Validation Accuracy = 0.858\n",
      "\n",
      "EPOCH 20 ...\n",
      "Finished EPOCH - 20 in  26  minutes\n",
      "Training Accuracy = 0.934\n",
      "Validation Accuracy = 0.925\n",
      "\n",
      "EPOCH 21 ...\n",
      "Finished EPOCH - 21 in  27  minutes\n",
      "Training Accuracy = 0.902\n",
      "Validation Accuracy = 0.886\n",
      "\n",
      "Model saved\n",
      "EPOCH 22 ...\n",
      "Finished EPOCH - 22 in  29  minutes\n",
      "Training Accuracy = 0.922\n",
      "Validation Accuracy = 0.910\n",
      "\n",
      "EPOCH 23 ...\n",
      "Finished EPOCH - 23 in  30  minutes\n",
      "Training Accuracy = 0.917\n",
      "Validation Accuracy = 0.911\n",
      "\n",
      "EPOCH 24 ...\n",
      "Finished EPOCH - 24 in  31  minutes\n",
      "Training Accuracy = 0.938\n",
      "Validation Accuracy = 0.925\n",
      "\n",
      "EPOCH 25 ...\n",
      "Finished EPOCH - 25 in  33  minutes\n",
      "Training Accuracy = 0.932\n",
      "Validation Accuracy = 0.926\n",
      "\n",
      "EPOCH 26 ...\n",
      "Finished EPOCH - 26 in  34  minutes\n",
      "Training Accuracy = 0.939\n",
      "Validation Accuracy = 0.933\n",
      "\n",
      "EPOCH 27 ...\n",
      "Finished EPOCH - 27 in  35  minutes\n",
      "Training Accuracy = 0.941\n",
      "Validation Accuracy = 0.934\n",
      "\n",
      "EPOCH 28 ...\n",
      "Finished EPOCH - 28 in  37  minutes\n",
      "Training Accuracy = 0.956\n",
      "Validation Accuracy = 0.948\n",
      "\n",
      "EPOCH 29 ...\n",
      "Finished EPOCH - 29 in  38  minutes\n",
      "Training Accuracy = 0.956\n",
      "Validation Accuracy = 0.947\n",
      "\n",
      "EPOCH 30 ...\n",
      "Finished EPOCH - 30 in  39  minutes\n",
      "Training Accuracy = 0.951\n",
      "Validation Accuracy = 0.941\n",
      "\n",
      "EPOCH 31 ...\n",
      "Finished EPOCH - 31 in  40  minutes\n",
      "Training Accuracy = 0.961\n",
      "Validation Accuracy = 0.954\n",
      "\n",
      "Model saved\n",
      "EPOCH 32 ...\n",
      "Finished EPOCH - 32 in  42  minutes\n",
      "Training Accuracy = 0.909\n",
      "Validation Accuracy = 0.895\n",
      "\n",
      "EPOCH 33 ...\n",
      "Finished EPOCH - 33 in  43  minutes\n",
      "Training Accuracy = 0.961\n",
      "Validation Accuracy = 0.953\n",
      "\n",
      "EPOCH 34 ...\n",
      "Finished EPOCH - 34 in  44  minutes\n",
      "Training Accuracy = 0.952\n",
      "Validation Accuracy = 0.945\n",
      "\n",
      "EPOCH 35 ...\n",
      "Finished EPOCH - 35 in  46  minutes\n",
      "Training Accuracy = 0.963\n",
      "Validation Accuracy = 0.953\n",
      "\n",
      "EPOCH 36 ...\n",
      "Finished EPOCH - 36 in  47  minutes\n",
      "Training Accuracy = 0.951\n",
      "Validation Accuracy = 0.937\n",
      "\n",
      "EPOCH 37 ...\n",
      "Finished EPOCH - 37 in  48  minutes\n",
      "Training Accuracy = 0.974\n",
      "Validation Accuracy = 0.966\n",
      "\n",
      "EPOCH 38 ...\n",
      "Finished EPOCH - 38 in  50  minutes\n",
      "Training Accuracy = 0.969\n",
      "Validation Accuracy = 0.958\n",
      "\n",
      "EPOCH 39 ...\n",
      "Finished EPOCH - 39 in  51  minutes\n",
      "Training Accuracy = 0.973\n",
      "Validation Accuracy = 0.962\n",
      "\n",
      "EPOCH 40 ...\n",
      "Finished EPOCH - 40 in  52  minutes\n",
      "Training Accuracy = 0.976\n",
      "Validation Accuracy = 0.966\n",
      "\n",
      "EPOCH 41 ...\n",
      "Finished EPOCH - 41 in  53  minutes\n",
      "Training Accuracy = 0.967\n",
      "Validation Accuracy = 0.959\n",
      "\n",
      "Model saved\n",
      "EPOCH 42 ...\n",
      "Finished EPOCH - 42 in  55  minutes\n",
      "Training Accuracy = 0.964\n",
      "Validation Accuracy = 0.955\n",
      "\n",
      "EPOCH 43 ...\n",
      "Finished EPOCH - 43 in  56  minutes\n",
      "Training Accuracy = 0.962\n",
      "Validation Accuracy = 0.953\n",
      "\n",
      "EPOCH 44 ...\n",
      "Finished EPOCH - 44 in  57  minutes\n",
      "Training Accuracy = 0.979\n",
      "Validation Accuracy = 0.970\n",
      "\n",
      "EPOCH 45 ...\n",
      "Finished EPOCH - 45 in  59  minutes\n",
      "Training Accuracy = 0.975\n",
      "Validation Accuracy = 0.964\n",
      "\n",
      "EPOCH 46 ...\n",
      "Finished EPOCH - 46 in  60  minutes\n",
      "Training Accuracy = 0.973\n",
      "Validation Accuracy = 0.964\n",
      "\n",
      "EPOCH 47 ...\n",
      "Finished EPOCH - 47 in  61  minutes\n",
      "Training Accuracy = 0.965\n",
      "Validation Accuracy = 0.954\n",
      "\n",
      "EPOCH 48 ...\n",
      "Finished EPOCH - 48 in  63  minutes\n",
      "Training Accuracy = 0.948\n",
      "Validation Accuracy = 0.940\n",
      "\n",
      "EPOCH 49 ...\n",
      "Finished EPOCH - 49 in  64  minutes\n",
      "Training Accuracy = 0.977\n",
      "Validation Accuracy = 0.965\n",
      "\n",
      "EPOCH 50 ...\n",
      "Finished EPOCH - 50 in  65  minutes\n",
      "Training Accuracy = 0.972\n",
      "Validation Accuracy = 0.963\n",
      "\n",
      "EPOCH 51 ...\n",
      "Finished EPOCH - 51 in  66  minutes\n",
      "Training Accuracy = 0.983\n",
      "Validation Accuracy = 0.975\n",
      "\n",
      "Model saved\n",
      "EPOCH 52 ...\n",
      "Finished EPOCH - 52 in  68  minutes\n",
      "Training Accuracy = 0.981\n",
      "Validation Accuracy = 0.972\n",
      "\n",
      "EPOCH 53 ...\n",
      "Finished EPOCH - 53 in  69  minutes\n",
      "Training Accuracy = 0.969\n",
      "Validation Accuracy = 0.958\n",
      "\n",
      "EPOCH 54 ...\n",
      "Finished EPOCH - 54 in  70  minutes\n",
      "Training Accuracy = 0.982\n",
      "Validation Accuracy = 0.973\n",
      "\n",
      "EPOCH 55 ...\n",
      "Finished EPOCH - 55 in  72  minutes\n",
      "Training Accuracy = 0.982\n",
      "Validation Accuracy = 0.972\n",
      "\n",
      "EPOCH 56 ...\n",
      "Finished EPOCH - 56 in  73  minutes\n",
      "Training Accuracy = 0.977\n",
      "Validation Accuracy = 0.967\n",
      "\n",
      "EPOCH 57 ...\n",
      "Finished EPOCH - 57 in  74  minutes\n",
      "Training Accuracy = 0.972\n",
      "Validation Accuracy = 0.964\n",
      "\n",
      "EPOCH 58 ...\n",
      "Finished EPOCH - 58 in  76  minutes\n",
      "Training Accuracy = 0.981\n",
      "Validation Accuracy = 0.970\n",
      "\n",
      "EPOCH 59 ...\n",
      "Finished EPOCH - 59 in  77  minutes\n",
      "Training Accuracy = 0.981\n",
      "Validation Accuracy = 0.972\n",
      "\n",
      "EPOCH 60 ...\n",
      "Finished EPOCH - 60 in  78  minutes\n",
      "Training Accuracy = 0.986\n",
      "Validation Accuracy = 0.976\n",
      "\n",
      "EPOCH 61 ...\n",
      "Finished EPOCH - 61 in  79  minutes\n",
      "Training Accuracy = 0.986\n",
      "Validation Accuracy = 0.978\n",
      "\n",
      "Model saved\n",
      "EPOCH 62 ...\n",
      "Finished EPOCH - 62 in  81  minutes\n",
      "Training Accuracy = 0.982\n",
      "Validation Accuracy = 0.971\n",
      "\n",
      "EPOCH 63 ...\n",
      "Finished EPOCH - 63 in  82  minutes\n",
      "Training Accuracy = 0.981\n",
      "Validation Accuracy = 0.969\n",
      "\n",
      "EPOCH 64 ...\n",
      "Finished EPOCH - 64 in  83  minutes\n",
      "Training Accuracy = 0.980\n",
      "Validation Accuracy = 0.969\n",
      "\n",
      "EPOCH 65 ...\n",
      "Finished EPOCH - 65 in  85  minutes\n",
      "Training Accuracy = 0.987\n",
      "Validation Accuracy = 0.976\n",
      "\n",
      "EPOCH 66 ...\n",
      "Finished EPOCH - 66 in  86  minutes\n",
      "Training Accuracy = 0.984\n",
      "Validation Accuracy = 0.974\n",
      "\n",
      "EPOCH 67 ...\n",
      "Finished EPOCH - 67 in  87  minutes\n",
      "Training Accuracy = 0.983\n",
      "Validation Accuracy = 0.971\n",
      "\n",
      "EPOCH 68 ...\n",
      "Finished EPOCH - 68 in  89  minutes\n",
      "Training Accuracy = 0.986\n",
      "Validation Accuracy = 0.978\n",
      "\n",
      "EPOCH 69 ...\n",
      "Finished EPOCH - 69 in  90  minutes\n",
      "Training Accuracy = 0.986\n",
      "Validation Accuracy = 0.974\n",
      "\n",
      "EPOCH 70 ...\n",
      "Finished EPOCH - 70 in  91  minutes\n",
      "Training Accuracy = 0.989\n",
      "Validation Accuracy = 0.979\n",
      "\n",
      "EPOCH 71 ...\n",
      "Finished EPOCH - 71 in  92  minutes\n",
      "Training Accuracy = 0.982\n",
      "Validation Accuracy = 0.973\n",
      "\n",
      "Model saved\n",
      "EPOCH 72 ...\n",
      "Finished EPOCH - 72 in  94  minutes\n",
      "Training Accuracy = 0.992\n",
      "Validation Accuracy = 0.984\n",
      "\n",
      "EPOCH 73 ...\n",
      "Finished EPOCH - 73 in  95  minutes\n",
      "Training Accuracy = 0.985\n",
      "Validation Accuracy = 0.977\n",
      "\n",
      "EPOCH 74 ...\n",
      "Finished EPOCH - 74 in  96  minutes\n",
      "Training Accuracy = 0.990\n",
      "Validation Accuracy = 0.981\n",
      "\n",
      "EPOCH 75 ...\n",
      "Finished EPOCH - 75 in  98  minutes\n",
      "Training Accuracy = 0.985\n",
      "Validation Accuracy = 0.977\n",
      "\n",
      "EPOCH 76 ...\n",
      "Finished EPOCH - 76 in  99  minutes\n",
      "Training Accuracy = 0.991\n",
      "Validation Accuracy = 0.982\n",
      "\n",
      "EPOCH 77 ...\n",
      "Finished EPOCH - 77 in  100  minutes\n",
      "Training Accuracy = 0.990\n",
      "Validation Accuracy = 0.979\n",
      "\n",
      "EPOCH 78 ...\n",
      "Finished EPOCH - 78 in  102  minutes\n",
      "Training Accuracy = 0.985\n",
      "Validation Accuracy = 0.974\n",
      "\n",
      "EPOCH 79 ...\n",
      "Finished EPOCH - 79 in  103  minutes\n",
      "Training Accuracy = 0.987\n",
      "Validation Accuracy = 0.976\n",
      "\n",
      "EPOCH 80 ...\n",
      "Finished EPOCH - 80 in  104  minutes\n",
      "Training Accuracy = 0.984\n",
      "Validation Accuracy = 0.973\n",
      "\n",
      "Finishedin  104  minutes\n",
      "Model saved\n"
     ]
    }
   ],
   "source": [
    "import time\n",
    "inital_time = time.time()\n",
    "\n",
    "training_acc = []\n",
    "validation_acc = []\n",
    "\n",
    "with tf.Session() as sess:\n",
    "    sess.run(tf.global_variables_initializer())\n",
    "    num_examples = len(X_train)\n",
    "    \n",
    "    print(\"Training...\")\n",
    "    print()\n",
    "    for i in range(EPOCHS):\n",
    "        X_train, y_train = shuffle(X_train, y_train)\n",
    "        for offset in range(0, num_examples, BATCH_SIZE):\n",
    "            end = offset + BATCH_SIZE\n",
    "            batch_x, batch_y = X_train[offset:end], y_train[offset:end]\n",
    "            sess.run(training_operation, feed_dict={x: batch_x, y: batch_y, phase:1})\n",
    "        \n",
    "        training_accuracy = evaluate(X_train, y_train)\n",
    "        validation_accuracy = evaluate(X_valid, y_valid)\n",
    "        training_acc.append(training_accuracy)\n",
    "        validation_acc.append(validation_accuracy)\n",
    "        print(\"EPOCH {} ...\".format(i+1))\n",
    "        print (\"Finished EPOCH -\", i+1, \"in \", round((time.time()-inital_time)/60.),\" minutes\")\n",
    "        print(\"Training Accuracy = {:.3f}\".format(training_accuracy))\n",
    "        print(\"Validation Accuracy = {:.3f}\".format(validation_accuracy))\n",
    "        print()\n",
    "        if ( i% 10 ==0):\n",
    "            saver.save(sess, './TrafficSignClassifier')\n",
    "            print(\"Model saved\")\n",
    "        \n",
    "       \n",
    "    print (\"Finishedin \", round((time.time()-inital_time)/60.),\" minutes\")    \n",
    "    saver.save(sess, './TrafficSignClassifier')\n",
    "    print(\"Model saved\")"
   ]
  },
  {
   "cell_type": "code",
   "execution_count": null,
   "metadata": {
    "collapsed": false,
    "deletable": true,
    "editable": true
   },
   "outputs": [
    {
     "data": {
      "image/png": "[encoded data removed]",
      "text/plain": [
       "<matplotlib.figure.Figure at 0x7f821b19bba8>"
      ]
     },
     "metadata": {},
     "output_type": "display_data"
    },
    {
     "data": {
      "text/plain": [
       "<matplotlib.figure.Figure at 0x7f821b159c50>"
      ]
     },
     "metadata": {},
     "output_type": "display_data"
    }
   ],
   "source": [
    "## Plot Accuracy curves\n",
    "\n",
    "#for i in range(len(training_acc) ):\n",
    "plt.plot(training_acc,'r--', validation_acc, 'g--')\n",
    "plt.show()\n",
    "plt.savefig(\"accuracy_plot.png\")"
   ]
  },
  {
   "cell_type": "markdown",
   "metadata": {
    "deletable": true,
    "editable": true
   },
   "source": [
    "#### Evaluate on Test set"
   ]
  },
  {
   "cell_type": "code",
   "execution_count": null,
   "metadata": {
    "collapsed": false,
    "deletable": true,
    "editable": true
   },
   "outputs": [
    {
     "name": "stdout",
     "output_type": "stream",
     "text": [
      "Test Accuracy = 0.964\n"
     ]
    }
   ],
   "source": [
    "with tf.Session() as sess:\n",
    "    saver.restore(sess, tf.train.latest_checkpoint('.'))\n",
    "\n",
    "    test_accuracy = evaluate(X_test, y_test)\n",
    "    print(\"Test Accuracy = {:.3f}\".format(test_accuracy))"
   ]
  },
  {
   "cell_type": "markdown",
   "metadata": {
    "deletable": true,
    "editable": true
   },
   "source": [
    "## Step 3: Test a Model on New Images\n",
    "\n",
    "To give yourself more insight into how your model is working, download at least five pictures of German traffic signs from the web and use your model to predict the traffic sign type.\n",
    "\n",
    "You may find `signnames.csv` useful as it contains mappings from the class id (integer) to the actual sign name."
   ]
  },
  {
   "cell_type": "markdown",
   "metadata": {
    "deletable": true,
    "editable": true
   },
   "source": [
    "### Load and Output the Images"
   ]
  },
  {
   "cell_type": "code",
   "execution_count": 29,
   "metadata": {
    "collapsed": false,
    "deletable": true,
    "editable": true
   },
   "outputs": [
    {
     "data": {
      "image/png": "[encoded data removed]",
      "text/plain": [
       "<matplotlib.figure.Figure at 0x7f811b686d30>"
      ]
     },
     "metadata": {},
     "output_type": "display_data"
    }
   ],
   "source": [
    "cur_f = {}\n",
    "for c in class_samples.keys():\n",
    "    cur_f[c]=0\n",
    "    \n",
    "fig, axes = plt.subplots(2, 3)\n",
    "fig.subplots_adjust(hspace=.7,wspace=0.8)\n",
    "\n",
    "new_y = [28,12,11,3,10,13]\n",
    "samples = []\n",
    "for i,l in zip(X_test,y_test):\n",
    "    if (l in new_y and cur_f[l] ==  0):\n",
    "        #plt.figure(figsize=(5,5))\n",
    "        samples.append((i,l))\n",
    "        #axes.imshow(i)\n",
    "        #axes.set_xlabel(l,fontsize=6)\n",
    "        #print(l)\n",
    "        cur_f[l] = 1\n",
    "\n",
    "for i, ax in enumerate(axes.flat):\n",
    "    ax.imshow(samples[i][0])\n",
    "    ax.set_xlabel(samples[i][1],fontsize=10)\n",
    "    "
   ]
  },
  {
   "cell_type": "code",
   "execution_count": 30,
   "metadata": {
    "collapsed": false,
    "deletable": true,
    "editable": true
   },
   "outputs": [
    {
     "data": {
      "image/png": "[encoded data removed]",
      "text/plain": [
       "<matplotlib.figure.Figure at 0x7f811a35a908>"
      ]
     },
     "metadata": {},
     "output_type": "display_data"
    }
   ],
   "source": [
    "import matplotlib.image as mpimg\n",
    "from PIL import Image\n",
    "\n",
    "fig, axes = plt.subplots(2, 3)\n",
    "fig.subplots_adjust(hspace=.7,wspace=0.8)\n",
    "\n",
    "test_img_path = \"test_images/\"\n",
    "imgs = ['test_img1.jpg','2.jpeg','test_img3.jpeg','8.jpeg','test_img5.jpeg','test_img6.jpg']\n",
    "new_input = []\n",
    "new_y = [28,12,11,3,10,13]\n",
    "\n",
    "for i, ax in enumerate(axes.flat):\n",
    "    image = np.asarray(Image.open(test_img_path + imgs[i]).resize((32,32)))\n",
    "    ax.imshow(image)\n",
    "    ax.set_xlabel(new_y[i],fontsize=10)\n",
    "    new_input.append(image)\n",
    "\n",
    "#for i in imgs:\n",
    "#    image = np.asarray(Image.open(test_img_path + i).resize((32,32)))\n",
    "#    \n",
    "#    plt.figure(figsize=(5,5))\n",
    "#    plt.imshow(image)\n",
    "#    new_input.append(image)\n",
    "\n",
    "\n",
    "new_input = np.asarray(new_input)\n",
    "new_y = np.asarray(new_y)\n",
    "\n",
    "## Normalization\n",
    "new_input = color_normalization(new_input)\n",
    "new_input = feature_normalization(new_input)\n",
    "#print(new_input.shape)\n",
    "#print(new_y.shape)"
   ]
  },
  {
   "cell_type": "markdown",
   "metadata": {
    "deletable": true,
    "editable": true
   },
   "source": [
    "### Predict the Sign Type for Each Image\n"
   ]
  },
  {
   "cell_type": "code",
   "execution_count": 31,
   "metadata": {
    "collapsed": false,
    "deletable": true,
    "editable": true
   },
   "outputs": [
    {
     "name": "stdout",
     "output_type": "stream",
     "text": [
      "Predicted value, True value\n",
      "28 28\n",
      "12 12\n",
      "11 11\n",
      "1 3\n",
      "1 10\n",
      "13 13\n",
      "Accuracy is 0.6666666666666666\n"
     ]
    }
   ],
   "source": [
    "with tf.Session() as sess:\n",
    "    saver.restore(sess, tf.train.latest_checkpoint('.'))\n",
    "    pred = sess.run(logits, feed_dict={x: new_input, y: new_y, phase:0})\n",
    "    values, indices = tf.nn.top_k(pred, k=5)\n",
    "    \n",
    "    values = values.eval()\n",
    "    indices = indices.eval()\n",
    "    print(\"Predicted value, True value\")\n",
    "    j=0\n",
    "    correct_pred = 0.\n",
    "    for p in pred:\n",
    "        predicted_val = int( tf.argmax(p,0).eval() )\n",
    "        print(predicted_val, new_y[j])\n",
    "        if(predicted_val == new_y[j] ):\n",
    "            correct_pred +=1\n",
    "        j+=1\n",
    "    \n",
    "ac = correct_pred / j\n",
    "print (\"Accuracy is {}\".format(ac))"
   ]
  },
  {
   "cell_type": "markdown",
   "metadata": {
    "deletable": true,
    "editable": true
   },
   "source": [
    "### Output Top 5 Softmax Probabilities For Each Image Found on the Web"
   ]
  },
  {
   "cell_type": "code",
   "execution_count": 32,
   "metadata": {
    "collapsed": false,
    "deletable": true,
    "editable": true
   },
   "outputs": [
    {
     "name": "stdout",
     "output_type": "stream",
     "text": [
      "Top 5 classes with softmax probabilites.. \n"
     ]
    }
   ],
   "source": [
    "print(\"Top 5 classes with softmax probabilites.. \")\n",
    "\n",
    "with tf.Session() as sess:\n",
    "    saver.restore(sess, tf.train.latest_checkpoint('.'))\n",
    "    prediction = probabilities.eval(session=sess,feed_dict={x: new_input, y: new_y, phase:0})\n",
    "    #print (prediction.shape)#"
   ]
  },
  {
   "cell_type": "code",
   "execution_count": 33,
   "metadata": {
    "collapsed": false,
    "deletable": true,
    "editable": true
   },
   "outputs": [
    {
     "data": {
      "image/png": "[encoded data removed]",
      "text/plain": [
       "<matplotlib.figure.Figure at 0x7f811a3107b8>"
      ]
     },
     "metadata": {},
     "output_type": "display_data"
    }
   ],
   "source": [
    "\n",
    "\n",
    "plt.figure(figsize=(16, 21))\n",
    "for i in range(6):\n",
    "    pred = list(prediction[i])\n",
    "    top_5 = sorted(range(len(pred)), key=lambda i: pred[i] , reverse=True)[:5]\n",
    "    prob_5 = []\n",
    "    [prob_5.append(pred[i]) for i in top_5 ]\n",
    "    plt.subplot(12, 2, 2*i+1)\n",
    "    plt.imshow(new_input[i]) \n",
    "    plt.title(new_y[i])\n",
    "    plt.axis('off')\n",
    "    plt.subplot(12, 2, 2*i+2)\n",
    "    plt.barh(np.arange(1, 6, 1), prob_5)\n",
    "    labs=[j for j in top_5]\n",
    "    plt.yticks(np.arange(1, 6, 1), labs)\n",
    "plt.show()\n"
   ]
  },
  {
   "cell_type": "markdown",
   "metadata": {
    "deletable": true,
    "editable": true
   },
   "source": [
    "\n",
    "## Step 4: Visualize the Neural Network's State with Test Images\n"
   ]
  },
  {
   "cell_type": "code",
   "execution_count": null,
   "metadata": {
    "collapsed": true,
    "deletable": true,
    "editable": true
   },
   "outputs": [],
   "source": [
    "### Visualize your network's feature maps here.\n",
    "### Feel free to use as many code cells as needed.\n",
    "\n",
    "# image_input: the test image being fed into the network to produce the feature maps\n",
    "# tf_activation: should be a tf variable name used during your training procedure that represents the calculated state of a specific weight layer\n",
    "# activation_min/max: can be used to view the activation contrast in more detail, by default matplot sets min and max to the actual min and max values of the output\n",
    "# plt_num: used to plot out multiple different weight feature map sets on the same block, just extend the plt number for each new feature map entry\n",
    "\n",
    "def outputFeatureMap(image_input, tf_activation, activation_min=-1, activation_max=-1 ,plt_num=1):\n",
    "    # Here make sure to preprocess your image_input in a way your network expects\n",
    "    # with size, normalization, ect if needed\n",
    "    # image_input =\n",
    "    # Note: x should be the same name as your network's tensorflow data placeholder variable\n",
    "    # If you get an error tf_activation is not defined it maybe having trouble accessing the variable from inside a function\n",
    "    #image_input = tf.Variable(image_input)\n",
    "    \n",
    "    activation = tf_activation.eval(session=sess,feed_dict={x : image_input})\n",
    "    featuremaps = activation.shape[3]\n",
    "    plt.figure(plt_num, figsize=(15,15))\n",
    "    for featuremap in range(featuremaps):\n",
    "        plt.subplot(6,8, featuremap+1) # sets the number of feature maps to show on each row and column\n",
    "        plt.title('FeatureMap ' + str(featuremap)) # displays the feature map number\n",
    "        if activation_min != -1 & activation_max != -1:\n",
    "            plt.imshow(activation[0,:,:, featuremap], interpolation=\"nearest\", vmin =activation_min, vmax=activation_max, cmap=\"gray\")\n",
    "        elif activation_max != -1:\n",
    "            plt.imshow(activation[0,:,:, featuremap], interpolation=\"nearest\", vmax=activation_max, cmap=\"gray\")\n",
    "        elif activation_min !=-1:\n",
    "            plt.imshow(activation[0,:,:, featuremap], interpolation=\"nearest\", vmin=activation_min, cmap=\"gray\")\n",
    "        else:\n",
    "            plt.imshow(activation[0,:,:, featuremap], interpolation=\"nearest\", cmap=\"gray\")"
   ]
  },
  {
   "cell_type": "code",
   "execution_count": 35,
   "metadata": {
    "collapsed": false,
    "deletable": true,
    "editable": true
   },
   "outputs": [
    {
     "data": {
      "image/png": "[encoded data removed]",
      "text/plain": [
       "<matplotlib.figure.Figure at 0x7f8123dcd978>"
      ]
     },
     "metadata": {},
     "output_type": "display_data"
    },
    {
     "data": {
      "image/png": "[encoded data removed]",
      "text/plain": [
       "<matplotlib.figure.Figure at 0x7f811ad21128>"
      ]
     },
     "metadata": {},
     "output_type": "display_data"
    },
    {
     "data": {
      "image/png": "[encoded data removed]",
      "text/plain": [
       "<matplotlib.figure.Figure at 0x7f8128602978>"
      ]
     },
     "metadata": {},
     "output_type": "display_data"
    }
   ],
   "source": [
    "test_image = np.asarray(X_train[20:21])\n",
    "plt.figure(2,figsize=(5,5))\n",
    "plt.subplot(212)\n",
    "plt.imshow(test_image[0])\n",
    "#print (test_image.shape)\n",
    "with tf.Session() as sess:\n",
    "    saver.restore(sess, tf.train.latest_checkpoint('.'))\n",
    "    # Fetch the tensor with name 'conv1:0'\n",
    "    conv1 = sess.graph.get_tensor_by_name('relu1:0')\n",
    "    outputFeatureMap(test_image,conv1,plt_num=3)\n",
    "    conv2 = sess.graph.get_tensor_by_name('relu2:0')\n",
    "    outputFeatureMap(test_image,conv2,plt_num=4)\n",
    "    #conv3 = sess.graph.get_tensor_by_name('relu3:0')\n",
    "    #outputFeatureMap(test_image,conv3,plt_num=5)"
   ]
  },
  {
   "cell_type": "markdown",
   "metadata": {
    "collapsed": true,
    "deletable": true,
    "editable": true
   },
   "source": [
    "Question 9\n",
    "Discuss how you used the visual output of your trained network's feature maps to show that it had learned to look for interesting characteristics in traffic sign images"
   ]
  },
  {
   "cell_type": "markdown",
   "metadata": {
    "deletable": true,
    "editable": true
   },
   "source": [
    "As we can see from above illustrations, activations at different layers have learned the abstractions required for it to be to recognize the sign. \n",
    "At lower layes the activations seem to be more about the shape of the sign irrespective of its position or rotation. "
   ]
  }
 ],
 "metadata": {
  "kernelspec": {
   "display_name": "Python 3",
   "language": "python",
   "name": "python3"
  },
  "language_info": {
   "codemirror_mode": {
    "name": "ipython",
    "version": 3
   },
   "file_extension": ".py",
   "mimetype": "text/x-python",
   "name": "python",
   "nbconvert_exporter": "python",
   "pygments_lexer": "ipython3",
   "version": "3.5.3"
  },
  "widgets": {
   "state": {},
   "version": "1.1.2"
  }
 },
 "nbformat": 4,
 "nbformat_minor": 2
}
